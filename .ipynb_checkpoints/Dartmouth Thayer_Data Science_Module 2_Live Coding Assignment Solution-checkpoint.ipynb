{
 "cells": [
  {
   "cell_type": "markdown",
   "metadata": {},
   "source": [
    "## Module 2 Live Coding Assignment: Data Structures\n",
    "\n",
    "**_Author: Jessica Cervi_**\n",
    "\n",
    "\n",
    "**_This notebook contains the questions and the solution to the live assignment for module 2._**\n",
    "\n",
    "**_Throughout this assignment, please remember to import all the necessary libraries at the beginning of every exercise._**"
   ]
  },
  {
   "cell_type": "markdown",
   "metadata": {},
   "source": [
    "### Question 1\n",
    "\n",
    "Create a Pandas dataframe called `df` containing 4 columns named Id, Continent, Country, Capital and the values \n",
    "\n",
    "\n",
    "| id | Continent  | Country | Capital|\n",
    "|----|-------|-----------|-------|\n",
    "| 1  | Europe| Italy | Rome|\n",
    "| 2  | Europe|France |Paris|\n",
    "| 3  | Asia  | China    |Beijing|\n",
    "| 4  | North America  | Canada    |Ottawa|\n",
    "| 5  | Europe|Germany |Berlin|\n",
    "\n",
    "\n",
    "Sort df in descending order with respect to the column ``Continent''."
   ]
  },
  {
   "cell_type": "code",
   "execution_count": 2,
   "metadata": {},
   "outputs": [],
   "source": [
    "import pandas as pd"
   ]
  },
  {
   "cell_type": "code",
   "execution_count": 26,
   "metadata": {},
   "outputs": [],
   "source": [
    "df_dict = {'id': [1, 2, 3, 4, 5],\n",
    "          'Continent':['Europe', 'Europe', 'Asia', 'North America', 'Europe'],\n",
    "          'Country': ['Italy', 'France', 'China', 'Canada', 'Germany'],\n",
    "          'Capital': ['Rome', 'Paris', 'Beijing', 'Ottawa', 'Berlin']}"
   ]
  },
  {
   "cell_type": "code",
   "execution_count": 27,
   "metadata": {},
   "outputs": [],
   "source": [
    "df = pd.DataFrame(df_dict)"
   ]
  },
  {
   "cell_type": "code",
   "execution_count": 28,
   "metadata": {},
   "outputs": [
    {
     "data": {
      "text/html": [
       "<div>\n",
       "<style scoped>\n",
       "    .dataframe tbody tr th:only-of-type {\n",
       "        vertical-align: middle;\n",
       "    }\n",
       "\n",
       "    .dataframe tbody tr th {\n",
       "        vertical-align: top;\n",
       "    }\n",
       "\n",
       "    .dataframe thead th {\n",
       "        text-align: right;\n",
       "    }\n",
       "</style>\n",
       "<table border=\"1\" class=\"dataframe\">\n",
       "  <thead>\n",
       "    <tr style=\"text-align: right;\">\n",
       "      <th></th>\n",
       "      <th>id</th>\n",
       "      <th>Continent</th>\n",
       "      <th>Country</th>\n",
       "      <th>Capital</th>\n",
       "    </tr>\n",
       "  </thead>\n",
       "  <tbody>\n",
       "    <tr>\n",
       "      <th>3</th>\n",
       "      <td>4</td>\n",
       "      <td>North America</td>\n",
       "      <td>Canada</td>\n",
       "      <td>Ottawa</td>\n",
       "    </tr>\n",
       "    <tr>\n",
       "      <th>0</th>\n",
       "      <td>1</td>\n",
       "      <td>Europe</td>\n",
       "      <td>Italy</td>\n",
       "      <td>Rome</td>\n",
       "    </tr>\n",
       "    <tr>\n",
       "      <th>1</th>\n",
       "      <td>2</td>\n",
       "      <td>Europe</td>\n",
       "      <td>France</td>\n",
       "      <td>Paris</td>\n",
       "    </tr>\n",
       "    <tr>\n",
       "      <th>4</th>\n",
       "      <td>5</td>\n",
       "      <td>Europe</td>\n",
       "      <td>Germany</td>\n",
       "      <td>Berlin</td>\n",
       "    </tr>\n",
       "    <tr>\n",
       "      <th>2</th>\n",
       "      <td>3</td>\n",
       "      <td>Asia</td>\n",
       "      <td>China</td>\n",
       "      <td>Beijing</td>\n",
       "    </tr>\n",
       "  </tbody>\n",
       "</table>\n",
       "</div>"
      ],
      "text/plain": [
       "   id      Continent  Country  Capital\n",
       "3   4  North America   Canada   Ottawa\n",
       "0   1         Europe    Italy     Rome\n",
       "1   2         Europe   France    Paris\n",
       "4   5         Europe  Germany   Berlin\n",
       "2   3           Asia    China  Beijing"
      ]
     },
     "execution_count": 28,
     "metadata": {},
     "output_type": "execute_result"
    }
   ],
   "source": [
    "df.sort_values(by = \"Continent\", ascending = False)"
   ]
  },
  {
   "cell_type": "markdown",
   "metadata": {},
   "source": [
    "### Question 2\n",
    "\n",
    "Consider the dataframe df defined in Question 1. Delete the column with label `Continent` and rename the column `Capital` to `Country Capital'."
   ]
  },
  {
   "cell_type": "code",
   "execution_count": 29,
   "metadata": {},
   "outputs": [],
   "source": [
    "import pandas as pd"
   ]
  },
  {
   "cell_type": "code",
   "execution_count": 30,
   "metadata": {},
   "outputs": [
    {
     "data": {
      "text/html": [
       "<div>\n",
       "<style scoped>\n",
       "    .dataframe tbody tr th:only-of-type {\n",
       "        vertical-align: middle;\n",
       "    }\n",
       "\n",
       "    .dataframe tbody tr th {\n",
       "        vertical-align: top;\n",
       "    }\n",
       "\n",
       "    .dataframe thead th {\n",
       "        text-align: right;\n",
       "    }\n",
       "</style>\n",
       "<table border=\"1\" class=\"dataframe\">\n",
       "  <thead>\n",
       "    <tr style=\"text-align: right;\">\n",
       "      <th></th>\n",
       "      <th>id</th>\n",
       "      <th>Country</th>\n",
       "      <th>Capital</th>\n",
       "    </tr>\n",
       "  </thead>\n",
       "  <tbody>\n",
       "    <tr>\n",
       "      <th>0</th>\n",
       "      <td>1</td>\n",
       "      <td>Italy</td>\n",
       "      <td>Rome</td>\n",
       "    </tr>\n",
       "    <tr>\n",
       "      <th>1</th>\n",
       "      <td>2</td>\n",
       "      <td>France</td>\n",
       "      <td>Paris</td>\n",
       "    </tr>\n",
       "    <tr>\n",
       "      <th>2</th>\n",
       "      <td>3</td>\n",
       "      <td>China</td>\n",
       "      <td>Beijing</td>\n",
       "    </tr>\n",
       "    <tr>\n",
       "      <th>3</th>\n",
       "      <td>4</td>\n",
       "      <td>Canada</td>\n",
       "      <td>Ottawa</td>\n",
       "    </tr>\n",
       "    <tr>\n",
       "      <th>4</th>\n",
       "      <td>5</td>\n",
       "      <td>Germany</td>\n",
       "      <td>Berlin</td>\n",
       "    </tr>\n",
       "  </tbody>\n",
       "</table>\n",
       "</div>"
      ],
      "text/plain": [
       "   id  Country  Capital\n",
       "0   1    Italy     Rome\n",
       "1   2   France    Paris\n",
       "2   3    China  Beijing\n",
       "3   4   Canada   Ottawa\n",
       "4   5  Germany   Berlin"
      ]
     },
     "execution_count": 30,
     "metadata": {},
     "output_type": "execute_result"
    }
   ],
   "source": [
    "df.drop(\"Continent\", axis = 1)"
   ]
  },
  {
   "cell_type": "code",
   "execution_count": 14,
   "metadata": {},
   "outputs": [],
   "source": [
    "df = df.drop('Continent', axis = 1) #deleted the column"
   ]
  },
  {
   "cell_type": "code",
   "execution_count": 15,
   "metadata": {},
   "outputs": [
    {
     "data": {
      "text/html": [
       "<div>\n",
       "<style scoped>\n",
       "    .dataframe tbody tr th:only-of-type {\n",
       "        vertical-align: middle;\n",
       "    }\n",
       "\n",
       "    .dataframe tbody tr th {\n",
       "        vertical-align: top;\n",
       "    }\n",
       "\n",
       "    .dataframe thead th {\n",
       "        text-align: right;\n",
       "    }\n",
       "</style>\n",
       "<table border=\"1\" class=\"dataframe\">\n",
       "  <thead>\n",
       "    <tr style=\"text-align: right;\">\n",
       "      <th></th>\n",
       "      <th>id</th>\n",
       "      <th>Country</th>\n",
       "      <th>Capital</th>\n",
       "    </tr>\n",
       "  </thead>\n",
       "  <tbody>\n",
       "    <tr>\n",
       "      <th>0</th>\n",
       "      <td>1</td>\n",
       "      <td>Italy</td>\n",
       "      <td>Rome</td>\n",
       "    </tr>\n",
       "    <tr>\n",
       "      <th>1</th>\n",
       "      <td>2</td>\n",
       "      <td>France</td>\n",
       "      <td>Paris</td>\n",
       "    </tr>\n",
       "    <tr>\n",
       "      <th>2</th>\n",
       "      <td>3</td>\n",
       "      <td>China</td>\n",
       "      <td>Beijing</td>\n",
       "    </tr>\n",
       "    <tr>\n",
       "      <th>3</th>\n",
       "      <td>4</td>\n",
       "      <td>Canada</td>\n",
       "      <td>Ottawa</td>\n",
       "    </tr>\n",
       "    <tr>\n",
       "      <th>4</th>\n",
       "      <td>5</td>\n",
       "      <td>Germany</td>\n",
       "      <td>Berlin</td>\n",
       "    </tr>\n",
       "  </tbody>\n",
       "</table>\n",
       "</div>"
      ],
      "text/plain": [
       "   id  Country  Capital\n",
       "0   1    Italy     Rome\n",
       "1   2   France    Paris\n",
       "2   3    China  Beijing\n",
       "3   4   Canada   Ottawa\n",
       "4   5  Germany   Berlin"
      ]
     },
     "execution_count": 15,
     "metadata": {},
     "output_type": "execute_result"
    }
   ],
   "source": [
    "df"
   ]
  },
  {
   "cell_type": "code",
   "execution_count": 23,
   "metadata": {},
   "outputs": [],
   "source": [
    "del(df['Continent'])"
   ]
  },
  {
   "cell_type": "code",
   "execution_count": 24,
   "metadata": {},
   "outputs": [
    {
     "data": {
      "text/html": [
       "<div>\n",
       "<style scoped>\n",
       "    .dataframe tbody tr th:only-of-type {\n",
       "        vertical-align: middle;\n",
       "    }\n",
       "\n",
       "    .dataframe tbody tr th {\n",
       "        vertical-align: top;\n",
       "    }\n",
       "\n",
       "    .dataframe thead th {\n",
       "        text-align: right;\n",
       "    }\n",
       "</style>\n",
       "<table border=\"1\" class=\"dataframe\">\n",
       "  <thead>\n",
       "    <tr style=\"text-align: right;\">\n",
       "      <th></th>\n",
       "      <th>id</th>\n",
       "      <th>Country</th>\n",
       "      <th>Capital</th>\n",
       "    </tr>\n",
       "  </thead>\n",
       "  <tbody>\n",
       "    <tr>\n",
       "      <th>0</th>\n",
       "      <td>1</td>\n",
       "      <td>Italy</td>\n",
       "      <td>Rome</td>\n",
       "    </tr>\n",
       "    <tr>\n",
       "      <th>1</th>\n",
       "      <td>2</td>\n",
       "      <td>France</td>\n",
       "      <td>Paris</td>\n",
       "    </tr>\n",
       "    <tr>\n",
       "      <th>2</th>\n",
       "      <td>3</td>\n",
       "      <td>China</td>\n",
       "      <td>Beijing</td>\n",
       "    </tr>\n",
       "    <tr>\n",
       "      <th>3</th>\n",
       "      <td>4</td>\n",
       "      <td>Canada</td>\n",
       "      <td>Ottawa</td>\n",
       "    </tr>\n",
       "    <tr>\n",
       "      <th>4</th>\n",
       "      <td>5</td>\n",
       "      <td>Germany</td>\n",
       "      <td>Berlin</td>\n",
       "    </tr>\n",
       "  </tbody>\n",
       "</table>\n",
       "</div>"
      ],
      "text/plain": [
       "   id  Country  Capital\n",
       "0   1    Italy     Rome\n",
       "1   2   France    Paris\n",
       "2   3    China  Beijing\n",
       "3   4   Canada   Ottawa\n",
       "4   5  Germany   Berlin"
      ]
     },
     "execution_count": 24,
     "metadata": {},
     "output_type": "execute_result"
    }
   ],
   "source": [
    "df.head()"
   ]
  },
  {
   "cell_type": "code",
   "execution_count": 19,
   "metadata": {},
   "outputs": [],
   "source": [
    "df = df.rename({'Capital': 'Country Capital'}, axis = 1) #renamed it"
   ]
  },
  {
   "cell_type": "code",
   "execution_count": 20,
   "metadata": {},
   "outputs": [
    {
     "data": {
      "text/html": [
       "<div>\n",
       "<style scoped>\n",
       "    .dataframe tbody tr th:only-of-type {\n",
       "        vertical-align: middle;\n",
       "    }\n",
       "\n",
       "    .dataframe tbody tr th {\n",
       "        vertical-align: top;\n",
       "    }\n",
       "\n",
       "    .dataframe thead th {\n",
       "        text-align: right;\n",
       "    }\n",
       "</style>\n",
       "<table border=\"1\" class=\"dataframe\">\n",
       "  <thead>\n",
       "    <tr style=\"text-align: right;\">\n",
       "      <th></th>\n",
       "      <th>id</th>\n",
       "      <th>Country</th>\n",
       "      <th>Country Capital</th>\n",
       "    </tr>\n",
       "  </thead>\n",
       "  <tbody>\n",
       "    <tr>\n",
       "      <th>0</th>\n",
       "      <td>1</td>\n",
       "      <td>Italy</td>\n",
       "      <td>Rome</td>\n",
       "    </tr>\n",
       "    <tr>\n",
       "      <th>1</th>\n",
       "      <td>2</td>\n",
       "      <td>France</td>\n",
       "      <td>Paris</td>\n",
       "    </tr>\n",
       "    <tr>\n",
       "      <th>2</th>\n",
       "      <td>3</td>\n",
       "      <td>China</td>\n",
       "      <td>Beijing</td>\n",
       "    </tr>\n",
       "    <tr>\n",
       "      <th>3</th>\n",
       "      <td>4</td>\n",
       "      <td>Canada</td>\n",
       "      <td>Ottawa</td>\n",
       "    </tr>\n",
       "    <tr>\n",
       "      <th>4</th>\n",
       "      <td>5</td>\n",
       "      <td>Germany</td>\n",
       "      <td>Berlin</td>\n",
       "    </tr>\n",
       "  </tbody>\n",
       "</table>\n",
       "</div>"
      ],
      "text/plain": [
       "   id  Country Country Capital\n",
       "0   1    Italy            Rome\n",
       "1   2   France           Paris\n",
       "2   3    China         Beijing\n",
       "3   4   Canada          Ottawa\n",
       "4   5  Germany          Berlin"
      ]
     },
     "execution_count": 20,
     "metadata": {},
     "output_type": "execute_result"
    }
   ],
   "source": [
    "df"
   ]
  },
  {
   "cell_type": "markdown",
   "metadata": {},
   "source": [
    "### Question 3\n",
    "\n",
    "Read the CSV file named \"foo.csv\" in the data folder and assign it to a dataframe called `df2`. Compute the average of the values of the column `price` and assign it to a variable called `averagePrice`.  Next,  create a filter to get all rows where the column `price` is less or equal than 5. Call this new dataframe `dfPrice`. Print the returned value and dataframe to screen."
   ]
  },
  {
   "cell_type": "code",
   "execution_count": 31,
   "metadata": {},
   "outputs": [],
   "source": [
    "import pandas as pd"
   ]
  },
  {
   "cell_type": "code",
   "execution_count": 32,
   "metadata": {},
   "outputs": [],
   "source": [
    "df2 = pd.read_csv('data/foo.csv')"
   ]
  },
  {
   "cell_type": "code",
   "execution_count": 35,
   "metadata": {},
   "outputs": [],
   "source": [
    "averagePrice = df2['price'].mean()"
   ]
  },
  {
   "cell_type": "code",
   "execution_count": 40,
   "metadata": {},
   "outputs": [],
   "source": [
    "dfPrice = df2.loc[df2['price'] < 5]"
   ]
  },
  {
   "cell_type": "code",
   "execution_count": 41,
   "metadata": {},
   "outputs": [
    {
     "data": {
      "text/html": [
       "<div>\n",
       "<style scoped>\n",
       "    .dataframe tbody tr th:only-of-type {\n",
       "        vertical-align: middle;\n",
       "    }\n",
       "\n",
       "    .dataframe tbody tr th {\n",
       "        vertical-align: top;\n",
       "    }\n",
       "\n",
       "    .dataframe thead th {\n",
       "        text-align: right;\n",
       "    }\n",
       "</style>\n",
       "<table border=\"1\" class=\"dataframe\">\n",
       "  <thead>\n",
       "    <tr style=\"text-align: right;\">\n",
       "      <th></th>\n",
       "      <th>id</th>\n",
       "      <th>firstName</th>\n",
       "      <th>lastName</th>\n",
       "      <th>billingId</th>\n",
       "      <th>product</th>\n",
       "      <th>price</th>\n",
       "      <th>birth</th>\n",
       "      <th>dummyCol</th>\n",
       "    </tr>\n",
       "  </thead>\n",
       "  <tbody>\n",
       "    <tr>\n",
       "      <th>6</th>\n",
       "      <td>7</td>\n",
       "      <td>CaRL</td>\n",
       "      <td>Ga%%%uss</td>\n",
       "      <td>323</td>\n",
       "      <td>taco</td>\n",
       "      <td>3</td>\n",
       "      <td>13-07-1970</td>\n",
       "      <td>gonna</td>\n",
       "    </tr>\n",
       "    <tr>\n",
       "      <th>7</th>\n",
       "      <td>8</td>\n",
       "      <td>David</td>\n",
       "      <td>H$$$ilbert</td>\n",
       "      <td>624</td>\n",
       "      <td>taaaccoo</td>\n",
       "      <td>3</td>\n",
       "      <td>14-07-1950</td>\n",
       "      <td>let</td>\n",
       "    </tr>\n",
       "    <tr>\n",
       "      <th>8</th>\n",
       "      <td>9</td>\n",
       "      <td>Johannes</td>\n",
       "      <td>KEPLER</td>\n",
       "      <td>735</td>\n",
       "      <td>taco</td>\n",
       "      <td>3</td>\n",
       "      <td>22-04-1920</td>\n",
       "      <td>you</td>\n",
       "    </tr>\n",
       "    <tr>\n",
       "      <th>9</th>\n",
       "      <td>10</td>\n",
       "      <td>JaMES</td>\n",
       "      <td>M$$ax%%well</td>\n",
       "      <td>875</td>\n",
       "      <td>taco</td>\n",
       "      <td>3</td>\n",
       "      <td>12-03-1923</td>\n",
       "      <td>down</td>\n",
       "    </tr>\n",
       "    <tr>\n",
       "      <th>12</th>\n",
       "      <td>13</td>\n",
       "      <td>Max!!!</td>\n",
       "      <td>Planck!!!</td>\n",
       "      <td>111</td>\n",
       "      <td>hamburguer</td>\n",
       "      <td>4</td>\n",
       "      <td>04-01-1994</td>\n",
       "      <td>run</td>\n",
       "    </tr>\n",
       "    <tr>\n",
       "      <th>15</th>\n",
       "      <td>16</td>\n",
       "      <td>William</td>\n",
       "      <td>Gilbert###</td>\n",
       "      <td>886</td>\n",
       "      <td>BEER</td>\n",
       "      <td>2</td>\n",
       "      <td>26-03-1958</td>\n",
       "      <td>desert</td>\n",
       "    </tr>\n",
       "    <tr>\n",
       "      <th>16</th>\n",
       "      <td>17</td>\n",
       "      <td>Marie</td>\n",
       "      <td>CURIE</td>\n",
       "      <td>912</td>\n",
       "      <td>Rice</td>\n",
       "      <td>1</td>\n",
       "      <td>22-03-2000</td>\n",
       "      <td>you</td>\n",
       "    </tr>\n",
       "  </tbody>\n",
       "</table>\n",
       "</div>"
      ],
      "text/plain": [
       "    id firstName     lastName  billingId     product  price       birth  \\\n",
       "6    7      CaRL     Ga%%%uss        323        taco      3  13-07-1970   \n",
       "7    8     David   H$$$ilbert        624    taaaccoo      3  14-07-1950   \n",
       "8    9  Johannes       KEPLER        735        taco      3  22-04-1920   \n",
       "9   10     JaMES  M$$ax%%well        875        taco      3  12-03-1923   \n",
       "12  13    Max!!!    Planck!!!        111  hamburguer      4  04-01-1994   \n",
       "15  16   William   Gilbert###        886        BEER      2  26-03-1958   \n",
       "16  17     Marie        CURIE        912        Rice      1  22-03-2000   \n",
       "\n",
       "   dummyCol  \n",
       "6     gonna  \n",
       "7       let  \n",
       "8       you  \n",
       "9      down  \n",
       "12     run   \n",
       "15   desert  \n",
       "16      you  "
      ]
     },
     "execution_count": 41,
     "metadata": {},
     "output_type": "execute_result"
    }
   ],
   "source": [
    "dfPrice"
   ]
  },
  {
   "cell_type": "code",
   "execution_count": 48,
   "metadata": {},
   "outputs": [],
   "source": [
    "name = 'Lenny'"
   ]
  },
  {
   "cell_type": "code",
   "execution_count": 49,
   "metadata": {},
   "outputs": [
    {
     "data": {
      "text/plain": [
       "'The dog is named Lenny'"
      ]
     },
     "execution_count": 49,
     "metadata": {},
     "output_type": "execute_result"
    }
   ],
   "source": [
    "'The dog is named Lenny'"
   ]
  },
  {
   "cell_type": "code",
   "execution_count": 50,
   "metadata": {},
   "outputs": [
    {
     "data": {
      "text/plain": [
       "'The dog is named Lenny'"
      ]
     },
     "execution_count": 50,
     "metadata": {},
     "output_type": "execute_result"
    }
   ],
   "source": [
    "f'The dog is named {name}'"
   ]
  },
  {
   "cell_type": "code",
   "execution_count": 52,
   "metadata": {},
   "outputs": [
    {
     "name": "stdout",
     "output_type": "stream",
     "text": [
      "The average price is: $ 6.05\n"
     ]
    }
   ],
   "source": [
    "print(f'The average price is: ${averagePrice: .2f}')"
   ]
  },
  {
   "cell_type": "code",
   "execution_count": 53,
   "metadata": {},
   "outputs": [
    {
     "data": {
      "text/plain": [
       "'The dog is named Lenny'"
      ]
     },
     "execution_count": 53,
     "metadata": {},
     "output_type": "execute_result"
    }
   ],
   "source": [
    "'The dog is named {}'.format(name)"
   ]
  },
  {
   "cell_type": "markdown",
   "metadata": {},
   "source": [
    "### Question 4\n",
    "\n",
    "Create a python lambda function called `addTen` that adds 10 to a certain variable `x`. Next apply this function to all the entries of the column `billingId` in the database df2 form the previous question. Assign the new values to a list called `addedValues`. Return the list to screen.\n",
    "\n",
    "**Hint:** use the pandas command `map`."
   ]
  },
  {
   "cell_type": "code",
   "execution_count": 47,
   "metadata": {},
   "outputs": [],
   "source": [
    "import pandas as pd"
   ]
  },
  {
   "cell_type": "code",
   "execution_count": 55,
   "metadata": {},
   "outputs": [],
   "source": [
    "addTen = lambda x: x + 10"
   ]
  },
  {
   "cell_type": "code",
   "execution_count": 73,
   "metadata": {},
   "outputs": [],
   "source": [
    "try2 = (df2['billingId'].apply(addTen).to_list()).append('Steve')"
   ]
  },
  {
   "cell_type": "code",
   "execution_count": 74,
   "metadata": {},
   "outputs": [],
   "source": [
    "try2"
   ]
  },
  {
   "cell_type": "code",
   "execution_count": 71,
   "metadata": {},
   "outputs": [],
   "source": [
    "try2.append('Steve')"
   ]
  },
  {
   "cell_type": "code",
   "execution_count": 72,
   "metadata": {},
   "outputs": [
    {
     "data": {
      "text/plain": [
       "[133,\n",
       " 433,\n",
       " 561,\n",
       " 531,\n",
       " 644,\n",
       " 682,\n",
       " 333,\n",
       " 634,\n",
       " 745,\n",
       " 885,\n",
       " 1002,\n",
       " 244,\n",
       " 121,\n",
       " 563,\n",
       " 126,\n",
       " 896,\n",
       " 922,\n",
       " 822,\n",
       " 477,\n",
       " 'Steve']"
      ]
     },
     "execution_count": 72,
     "metadata": {},
     "output_type": "execute_result"
    }
   ],
   "source": [
    "try2"
   ]
  },
  {
   "cell_type": "code",
   "execution_count": 61,
   "metadata": {},
   "outputs": [
    {
     "data": {
      "text/plain": [
       "[133,\n",
       " 433,\n",
       " 561,\n",
       " 531,\n",
       " 644,\n",
       " 682,\n",
       " 333,\n",
       " 634,\n",
       " 745,\n",
       " 885,\n",
       " 1002,\n",
       " 244,\n",
       " 121,\n",
       " 563,\n",
       " 126,\n",
       " 896,\n",
       " 922,\n",
       " 822,\n",
       " 477]"
      ]
     },
     "execution_count": 61,
     "metadata": {},
     "output_type": "execute_result"
    }
   ],
   "source": [
    "try2.to_list()"
   ]
  },
  {
   "cell_type": "code",
   "execution_count": 57,
   "metadata": {},
   "outputs": [],
   "source": [
    "addedValues = list(df2['billingId'].apply(addTen))"
   ]
  },
  {
   "cell_type": "code",
   "execution_count": 58,
   "metadata": {},
   "outputs": [
    {
     "data": {
      "text/plain": [
       "[133,\n",
       " 433,\n",
       " 561,\n",
       " 531,\n",
       " 644,\n",
       " 682,\n",
       " 333,\n",
       " 634,\n",
       " 745,\n",
       " 885,\n",
       " 1002,\n",
       " 244,\n",
       " 121,\n",
       " 563,\n",
       " 126,\n",
       " 896,\n",
       " 922,\n",
       " 822,\n",
       " 477]"
      ]
     },
     "execution_count": 58,
     "metadata": {},
     "output_type": "execute_result"
    }
   ],
   "source": [
    "addedValues"
   ]
  },
  {
   "cell_type": "code",
   "execution_count": null,
   "metadata": {},
   "outputs": [],
   "source": []
  },
  {
   "cell_type": "markdown",
   "metadata": {},
   "source": [
    "### Question 5\n",
    "\n",
    "Split the dataframe df2  from the previous questions into two dataframes with odd rows in one dataframe and even rows in a different one. Assign the new dataframes to `df2Odd` and `df2Even` and print them to screen."
   ]
  },
  {
   "cell_type": "code",
   "execution_count": 75,
   "metadata": {},
   "outputs": [],
   "source": [
    "import pandas as pd"
   ]
  },
  {
   "cell_type": "code",
   "execution_count": 82,
   "metadata": {},
   "outputs": [
    {
     "data": {
      "text/html": [
       "<div>\n",
       "<style scoped>\n",
       "    .dataframe tbody tr th:only-of-type {\n",
       "        vertical-align: middle;\n",
       "    }\n",
       "\n",
       "    .dataframe tbody tr th {\n",
       "        vertical-align: top;\n",
       "    }\n",
       "\n",
       "    .dataframe thead th {\n",
       "        text-align: right;\n",
       "    }\n",
       "</style>\n",
       "<table border=\"1\" class=\"dataframe\">\n",
       "  <thead>\n",
       "    <tr style=\"text-align: right;\">\n",
       "      <th></th>\n",
       "      <th>id</th>\n",
       "      <th>firstName</th>\n",
       "      <th>lastName</th>\n",
       "      <th>billingId</th>\n",
       "      <th>product</th>\n",
       "      <th>price</th>\n",
       "      <th>birth</th>\n",
       "      <th>dummyCol</th>\n",
       "    </tr>\n",
       "  </thead>\n",
       "  <tbody>\n",
       "    <tr>\n",
       "      <th>0</th>\n",
       "      <td>1</td>\n",
       "      <td>Luis</td>\n",
       "      <td>Alvarez$$%!</td>\n",
       "      <td>123</td>\n",
       "      <td>Cake</td>\n",
       "      <td>10</td>\n",
       "      <td>07-07-1980</td>\n",
       "      <td>never</td>\n",
       "    </tr>\n",
       "    <tr>\n",
       "      <th>2</th>\n",
       "      <td>3</td>\n",
       "      <td>NiELS</td>\n",
       "      <td>Böhr//((%%</td>\n",
       "      <td>551</td>\n",
       "      <td>pizza</td>\n",
       "      <td>8</td>\n",
       "      <td>09-07-1990</td>\n",
       "      <td>give</td>\n",
       "    </tr>\n",
       "    <tr>\n",
       "      <th>4</th>\n",
       "      <td>5</td>\n",
       "      <td>Albert</td>\n",
       "      <td>Einstein</td>\n",
       "      <td>634</td>\n",
       "      <td>pizza</td>\n",
       "      <td>8</td>\n",
       "      <td>11-07-1990</td>\n",
       "      <td>up</td>\n",
       "    </tr>\n",
       "    <tr>\n",
       "      <th>6</th>\n",
       "      <td>7</td>\n",
       "      <td>CaRL</td>\n",
       "      <td>Ga%%%uss</td>\n",
       "      <td>323</td>\n",
       "      <td>taco</td>\n",
       "      <td>3</td>\n",
       "      <td>13-07-1970</td>\n",
       "      <td>gonna</td>\n",
       "    </tr>\n",
       "    <tr>\n",
       "      <th>8</th>\n",
       "      <td>9</td>\n",
       "      <td>Johannes</td>\n",
       "      <td>KEPLER</td>\n",
       "      <td>735</td>\n",
       "      <td>taco</td>\n",
       "      <td>3</td>\n",
       "      <td>22-04-1920</td>\n",
       "      <td>you</td>\n",
       "    </tr>\n",
       "    <tr>\n",
       "      <th>10</th>\n",
       "      <td>11</td>\n",
       "      <td>Isaac</td>\n",
       "      <td>Newton</td>\n",
       "      <td>992</td>\n",
       "      <td>pasta</td>\n",
       "      <td>9</td>\n",
       "      <td>15-02-1999</td>\n",
       "      <td>never</td>\n",
       "    </tr>\n",
       "    <tr>\n",
       "      <th>12</th>\n",
       "      <td>13</td>\n",
       "      <td>Max!!!</td>\n",
       "      <td>Planck!!!</td>\n",
       "      <td>111</td>\n",
       "      <td>hamburguer</td>\n",
       "      <td>4</td>\n",
       "      <td>04-01-1994</td>\n",
       "      <td>run</td>\n",
       "    </tr>\n",
       "    <tr>\n",
       "      <th>14</th>\n",
       "      <td>15</td>\n",
       "      <td>(((   Heinrich )))))</td>\n",
       "      <td>Hertz</td>\n",
       "      <td>116</td>\n",
       "      <td>pizza</td>\n",
       "      <td>8</td>\n",
       "      <td>30-11-1956</td>\n",
       "      <td>and</td>\n",
       "    </tr>\n",
       "    <tr>\n",
       "      <th>16</th>\n",
       "      <td>17</td>\n",
       "      <td>Marie</td>\n",
       "      <td>CURIE</td>\n",
       "      <td>912</td>\n",
       "      <td>Rice</td>\n",
       "      <td>1</td>\n",
       "      <td>22-03-2000</td>\n",
       "      <td>you</td>\n",
       "    </tr>\n",
       "    <tr>\n",
       "      <th>18</th>\n",
       "      <td>19</td>\n",
       "      <td>JAMES</td>\n",
       "      <td>Chadwick</td>\n",
       "      <td>467</td>\n",
       "      <td>NaN</td>\n",
       "      <td>10</td>\n",
       "      <td>03-05-1921</td>\n",
       "      <td>#</td>\n",
       "    </tr>\n",
       "  </tbody>\n",
       "</table>\n",
       "</div>"
      ],
      "text/plain": [
       "    id             firstName     lastName  billingId     product  price  \\\n",
       "0    1                  Luis  Alvarez$$%!        123        Cake     10   \n",
       "2    3                 NiELS   Böhr//((%%        551       pizza      8   \n",
       "4    5                Albert     Einstein        634       pizza      8   \n",
       "6    7                  CaRL     Ga%%%uss        323        taco      3   \n",
       "8    9              Johannes       KEPLER        735        taco      3   \n",
       "10  11                 Isaac       Newton        992       pasta      9   \n",
       "12  13                Max!!!    Planck!!!        111  hamburguer      4   \n",
       "14  15  (((   Heinrich )))))        Hertz        116       pizza      8   \n",
       "16  17                 Marie        CURIE        912        Rice      1   \n",
       "18  19                 JAMES     Chadwick        467         NaN     10   \n",
       "\n",
       "         birth dummyCol  \n",
       "0   07-07-1980    never  \n",
       "2   09-07-1990     give  \n",
       "4   11-07-1990       up  \n",
       "6   13-07-1970    gonna  \n",
       "8   22-04-1920      you  \n",
       "10  15-02-1999   never   \n",
       "12  04-01-1994     run   \n",
       "14  30-11-1956      and  \n",
       "16  22-03-2000      you  \n",
       "18  03-05-1921        #  "
      ]
     },
     "execution_count": 82,
     "metadata": {},
     "output_type": "execute_result"
    }
   ],
   "source": [
    "df2.iloc[::2]"
   ]
  },
  {
   "cell_type": "code",
   "execution_count": 83,
   "metadata": {},
   "outputs": [
    {
     "data": {
      "text/html": [
       "<div>\n",
       "<style scoped>\n",
       "    .dataframe tbody tr th:only-of-type {\n",
       "        vertical-align: middle;\n",
       "    }\n",
       "\n",
       "    .dataframe tbody tr th {\n",
       "        vertical-align: top;\n",
       "    }\n",
       "\n",
       "    .dataframe thead th {\n",
       "        text-align: right;\n",
       "    }\n",
       "</style>\n",
       "<table border=\"1\" class=\"dataframe\">\n",
       "  <thead>\n",
       "    <tr style=\"text-align: right;\">\n",
       "      <th></th>\n",
       "      <th>id</th>\n",
       "      <th>firstName</th>\n",
       "      <th>lastName</th>\n",
       "      <th>billingId</th>\n",
       "      <th>product</th>\n",
       "      <th>price</th>\n",
       "      <th>birth</th>\n",
       "      <th>dummyCol</th>\n",
       "    </tr>\n",
       "  </thead>\n",
       "  <tbody>\n",
       "    <tr>\n",
       "      <th>1</th>\n",
       "      <td>2</td>\n",
       "      <td>André</td>\n",
       "      <td>Ampère</td>\n",
       "      <td>423</td>\n",
       "      <td>piza</td>\n",
       "      <td>8</td>\n",
       "      <td>08-07-1950</td>\n",
       "      <td>gonna</td>\n",
       "    </tr>\n",
       "    <tr>\n",
       "      <th>3</th>\n",
       "      <td>4</td>\n",
       "      <td>PAUL</td>\n",
       "      <td>dirac$</td>\n",
       "      <td>521</td>\n",
       "      <td>pizza</td>\n",
       "      <td>8</td>\n",
       "      <td>10-07-1954</td>\n",
       "      <td>you</td>\n",
       "    </tr>\n",
       "    <tr>\n",
       "      <th>5</th>\n",
       "      <td>6</td>\n",
       "      <td>Galileo</td>\n",
       "      <td>GALiLEI</td>\n",
       "      <td>672</td>\n",
       "      <td>arepa</td>\n",
       "      <td>5</td>\n",
       "      <td>12-08-1930</td>\n",
       "      <td>never</td>\n",
       "    </tr>\n",
       "    <tr>\n",
       "      <th>7</th>\n",
       "      <td>8</td>\n",
       "      <td>David</td>\n",
       "      <td>H$$$ilbert</td>\n",
       "      <td>624</td>\n",
       "      <td>taaaccoo</td>\n",
       "      <td>3</td>\n",
       "      <td>14-07-1950</td>\n",
       "      <td>let</td>\n",
       "    </tr>\n",
       "    <tr>\n",
       "      <th>9</th>\n",
       "      <td>10</td>\n",
       "      <td>JaMES</td>\n",
       "      <td>M$$ax%%well</td>\n",
       "      <td>875</td>\n",
       "      <td>taco</td>\n",
       "      <td>3</td>\n",
       "      <td>12-03-1923</td>\n",
       "      <td>down</td>\n",
       "    </tr>\n",
       "    <tr>\n",
       "      <th>11</th>\n",
       "      <td>12</td>\n",
       "      <td>Emmy%%</td>\n",
       "      <td>Nöether$</td>\n",
       "      <td>234</td>\n",
       "      <td>pasta</td>\n",
       "      <td>9</td>\n",
       "      <td>08-12-1993</td>\n",
       "      <td>gonna</td>\n",
       "    </tr>\n",
       "    <tr>\n",
       "      <th>13</th>\n",
       "      <td>14</td>\n",
       "      <td>Fred</td>\n",
       "      <td>Hoy&amp;&amp;&amp;le</td>\n",
       "      <td>553</td>\n",
       "      <td>pizzza</td>\n",
       "      <td>8</td>\n",
       "      <td>27-06-1997</td>\n",
       "      <td>around</td>\n",
       "    </tr>\n",
       "    <tr>\n",
       "      <th>15</th>\n",
       "      <td>16</td>\n",
       "      <td>William</td>\n",
       "      <td>Gilbert###</td>\n",
       "      <td>886</td>\n",
       "      <td>BEER</td>\n",
       "      <td>2</td>\n",
       "      <td>26-03-1958</td>\n",
       "      <td>desert</td>\n",
       "    </tr>\n",
       "    <tr>\n",
       "      <th>17</th>\n",
       "      <td>18</td>\n",
       "      <td>Arthur</td>\n",
       "      <td>COM%%%pton</td>\n",
       "      <td>812</td>\n",
       "      <td>110790</td>\n",
       "      <td>5</td>\n",
       "      <td>1899/01/01</td>\n",
       "      <td>#</td>\n",
       "    </tr>\n",
       "  </tbody>\n",
       "</table>\n",
       "</div>"
      ],
      "text/plain": [
       "    id firstName              lastName  billingId   product  price  \\\n",
       "1    2     André                Ampère        423      piza      8   \n",
       "3    4      PAUL                dirac$        521     pizza      8   \n",
       "5    6   Galileo               GALiLEI        672     arepa      5   \n",
       "7    8     David            H$$$ilbert        624  taaaccoo      3   \n",
       "9   10     JaMES           M$$ax%%well        875      taco      3   \n",
       "11  12    Emmy%%              Nöether$        234     pasta      9   \n",
       "13  14      Fred              Hoy&&&le        553    pizzza      8   \n",
       "15  16   William            Gilbert###        886      BEER      2   \n",
       "17  18    Arthur            COM%%%pton        812    110790      5   \n",
       "\n",
       "         birth dummyCol  \n",
       "1   08-07-1950    gonna  \n",
       "3   10-07-1954      you  \n",
       "5   12-08-1930    never  \n",
       "7   14-07-1950      let  \n",
       "9   12-03-1923     down  \n",
       "11  08-12-1993    gonna  \n",
       "13  27-06-1997   around  \n",
       "15  26-03-1958   desert  \n",
       "17  1899/01/01        #  "
      ]
     },
     "execution_count": 83,
     "metadata": {},
     "output_type": "execute_result"
    }
   ],
   "source": [
    "df2.iloc[1::2]"
   ]
  },
  {
   "cell_type": "code",
   "execution_count": 78,
   "metadata": {},
   "outputs": [],
   "source": [
    "twenty_ints = list(range(20))"
   ]
  },
  {
   "cell_type": "code",
   "execution_count": 80,
   "metadata": {},
   "outputs": [
    {
     "data": {
      "text/plain": [
       "[0, 2, 4, 6, 8, 10, 12, 14, 16, 18]"
      ]
     },
     "execution_count": 80,
     "metadata": {},
     "output_type": "execute_result"
    }
   ],
   "source": [
    "twenty_ints[::2]"
   ]
  },
  {
   "cell_type": "code",
   "execution_count": 81,
   "metadata": {},
   "outputs": [
    {
     "data": {
      "text/plain": [
       "[1, 3, 5, 7, 9, 11, 13, 15, 17, 19]"
      ]
     },
     "execution_count": 81,
     "metadata": {},
     "output_type": "execute_result"
    }
   ],
   "source": [
    "twenty_ints[1::2]"
   ]
  },
  {
   "cell_type": "code",
   "execution_count": 84,
   "metadata": {},
   "outputs": [
    {
     "name": "stdout",
     "output_type": "stream",
     "text": [
      "<class 'pandas.core.frame.DataFrame'>\n",
      "RangeIndex: 19 entries, 0 to 18\n",
      "Data columns (total 8 columns):\n",
      " #   Column     Non-Null Count  Dtype \n",
      "---  ------     --------------  ----- \n",
      " 0   id         19 non-null     int64 \n",
      " 1   firstName  19 non-null     object\n",
      " 2   lastName   19 non-null     object\n",
      " 3   billingId  19 non-null     int64 \n",
      " 4   product    18 non-null     object\n",
      " 5   price      19 non-null     int64 \n",
      " 6   birth      19 non-null     object\n",
      " 7   dummyCol   19 non-null     object\n",
      "dtypes: int64(3), object(5)\n",
      "memory usage: 1.3+ KB\n"
     ]
    }
   ],
   "source": [
    "df2.info()"
   ]
  },
  {
   "cell_type": "code",
   "execution_count": 86,
   "metadata": {},
   "outputs": [],
   "source": [
    "df2['birth'] = pd.to_datetime(df2['birth'])"
   ]
  },
  {
   "cell_type": "code",
   "execution_count": 87,
   "metadata": {},
   "outputs": [
    {
     "name": "stdout",
     "output_type": "stream",
     "text": [
      "<class 'pandas.core.frame.DataFrame'>\n",
      "RangeIndex: 19 entries, 0 to 18\n",
      "Data columns (total 8 columns):\n",
      " #   Column     Non-Null Count  Dtype         \n",
      "---  ------     --------------  -----         \n",
      " 0   id         19 non-null     int64         \n",
      " 1   firstName  19 non-null     object        \n",
      " 2   lastName   19 non-null     object        \n",
      " 3   billingId  19 non-null     int64         \n",
      " 4   product    18 non-null     object        \n",
      " 5   price      19 non-null     int64         \n",
      " 6   birth      19 non-null     datetime64[ns]\n",
      " 7   dummyCol   19 non-null     object        \n",
      "dtypes: datetime64[ns](1), int64(3), object(4)\n",
      "memory usage: 1.3+ KB\n"
     ]
    }
   ],
   "source": [
    "df2.info()"
   ]
  },
  {
   "cell_type": "code",
   "execution_count": null,
   "metadata": {},
   "outputs": [],
   "source": []
  }
 ],
 "metadata": {
  "kernelspec": {
   "display_name": "Python 3",
   "language": "python",
   "name": "python3"
  },
  "language_info": {
   "codemirror_mode": {
    "name": "ipython",
    "version": 3
   },
   "file_extension": ".py",
   "mimetype": "text/x-python",
   "name": "python",
   "nbconvert_exporter": "python",
   "pygments_lexer": "ipython3",
   "version": "3.8.2"
  },
  "widgets": {
   "application/vnd.jupyter.widget-state+json": {
    "state": {},
    "version_major": 2,
    "version_minor": 0
   }
  }
 },
 "nbformat": 4,
 "nbformat_minor": 4
}

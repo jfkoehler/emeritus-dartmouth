{
 "cells": [
  {
   "cell_type": "markdown",
   "metadata": {},
   "source": [
    "### Week 1: Intro "
   ]
  },
  {
   "cell_type": "code",
   "execution_count": 1,
   "metadata": {},
   "outputs": [],
   "source": [
    "import pandas as pd"
   ]
  },
  {
   "cell_type": "code",
   "execution_count": 6,
   "metadata": {},
   "outputs": [],
   "source": [
    "insult_df = pd.read_csv('data/insults.csv', index_col = 0)"
   ]
  },
  {
   "cell_type": "code",
   "execution_count": 7,
   "metadata": {},
   "outputs": [
    {
     "name": "stdout",
     "output_type": "stream",
     "text": [
      "<class 'pandas.core.frame.DataFrame'>\n",
      "Int64Index: 10360 entries, 1 to 10360\n",
      "Data columns (total 4 columns):\n",
      " #   Column  Non-Null Count  Dtype \n",
      "---  ------  --------------  ----- \n",
      " 0   date    10360 non-null  object\n",
      " 1   target  10358 non-null  object\n",
      " 2   insult  10360 non-null  object\n",
      " 3   tweet   10360 non-null  object\n",
      "dtypes: object(4)\n",
      "memory usage: 404.7+ KB\n"
     ]
    }
   ],
   "source": [
    "insult_df.info()"
   ]
  },
  {
   "cell_type": "code",
   "execution_count": 9,
   "metadata": {},
   "outputs": [
    {
     "data": {
      "text/html": [
       "<div>\n",
       "<style scoped>\n",
       "    .dataframe tbody tr th:only-of-type {\n",
       "        vertical-align: middle;\n",
       "    }\n",
       "\n",
       "    .dataframe tbody tr th {\n",
       "        vertical-align: top;\n",
       "    }\n",
       "\n",
       "    .dataframe thead th {\n",
       "        text-align: right;\n",
       "    }\n",
       "</style>\n",
       "<table border=\"1\" class=\"dataframe\">\n",
       "  <thead>\n",
       "    <tr style=\"text-align: right;\">\n",
       "      <th></th>\n",
       "      <th>date</th>\n",
       "      <th>target</th>\n",
       "      <th>insult</th>\n",
       "      <th>tweet</th>\n",
       "    </tr>\n",
       "  </thead>\n",
       "  <tbody>\n",
       "    <tr>\n",
       "      <th>1</th>\n",
       "      <td>2014-10-09</td>\n",
       "      <td>thomas-frieden</td>\n",
       "      <td>fool</td>\n",
       "      <td>Can you believe this fool, Dr. Thomas Frieden ...</td>\n",
       "    </tr>\n",
       "    <tr>\n",
       "      <th>2</th>\n",
       "      <td>2014-10-09</td>\n",
       "      <td>thomas-frieden</td>\n",
       "      <td>DOPE</td>\n",
       "      <td>Can you believe this fool, Dr. Thomas Frieden ...</td>\n",
       "    </tr>\n",
       "    <tr>\n",
       "      <th>3</th>\n",
       "      <td>2015-06-16</td>\n",
       "      <td>politicians</td>\n",
       "      <td>all talk and no action</td>\n",
       "      <td>Big time in U.S. today - MAKE AMERICA GREAT AG...</td>\n",
       "    </tr>\n",
       "    <tr>\n",
       "      <th>4</th>\n",
       "      <td>2015-06-24</td>\n",
       "      <td>ben-cardin</td>\n",
       "      <td>It's politicians like Cardin that have destroy...</td>\n",
       "      <td>Politician @SenatorCardin didn't like that I s...</td>\n",
       "    </tr>\n",
       "    <tr>\n",
       "      <th>5</th>\n",
       "      <td>2015-06-24</td>\n",
       "      <td>neil-young</td>\n",
       "      <td>total hypocrite</td>\n",
       "      <td>For the nonbeliever, here is a photo of @Neily...</td>\n",
       "    </tr>\n",
       "    <tr>\n",
       "      <th>6</th>\n",
       "      <td>2015-06-24</td>\n",
       "      <td>rockin-in-the-free-world</td>\n",
       "      <td>didn't love it</td>\n",
       "      <td>.@Neilyoung’s song, “Rockin’ In The Free World...</td>\n",
       "    </tr>\n",
       "    <tr>\n",
       "      <th>7</th>\n",
       "      <td>2015-06-25</td>\n",
       "      <td>willie-geist</td>\n",
       "      <td>uncomfortable looking</td>\n",
       "      <td>Uncomfortable looking NBC reporter Willie Geis...</td>\n",
       "    </tr>\n",
       "    <tr>\n",
       "      <th>8</th>\n",
       "      <td>2015-06-25</td>\n",
       "      <td>jeb-bush</td>\n",
       "      <td>will NEVER Make America Great Again</td>\n",
       "      <td>Just out, the new nationwide @FoxNews poll has...</td>\n",
       "    </tr>\n",
       "    <tr>\n",
       "      <th>9</th>\n",
       "      <td>2015-06-25</td>\n",
       "      <td>molly-sims</td>\n",
       "      <td>a disaster</td>\n",
       "      <td>The ratings for The View are really low. Nicol...</td>\n",
       "    </tr>\n",
       "    <tr>\n",
       "      <th>10</th>\n",
       "      <td>2015-06-25</td>\n",
       "      <td>nicole-wallace</td>\n",
       "      <td>a disaster</td>\n",
       "      <td>The ratings for The View are really low. Nicol...</td>\n",
       "    </tr>\n",
       "  </tbody>\n",
       "</table>\n",
       "</div>"
      ],
      "text/plain": [
       "          date                    target  \\\n",
       "1   2014-10-09            thomas-frieden   \n",
       "2   2014-10-09            thomas-frieden   \n",
       "3   2015-06-16               politicians   \n",
       "4   2015-06-24                ben-cardin   \n",
       "5   2015-06-24                neil-young   \n",
       "6   2015-06-24  rockin-in-the-free-world   \n",
       "7   2015-06-25              willie-geist   \n",
       "8   2015-06-25                  jeb-bush   \n",
       "9   2015-06-25                molly-sims   \n",
       "10  2015-06-25            nicole-wallace   \n",
       "\n",
       "                                               insult  \\\n",
       "1                                                fool   \n",
       "2                                                DOPE   \n",
       "3                              all talk and no action   \n",
       "4   It's politicians like Cardin that have destroy...   \n",
       "5                                     total hypocrite   \n",
       "6                                      didn't love it   \n",
       "7                               uncomfortable looking   \n",
       "8                 will NEVER Make America Great Again   \n",
       "9                                          a disaster   \n",
       "10                                         a disaster   \n",
       "\n",
       "                                                tweet  \n",
       "1   Can you believe this fool, Dr. Thomas Frieden ...  \n",
       "2   Can you believe this fool, Dr. Thomas Frieden ...  \n",
       "3   Big time in U.S. today - MAKE AMERICA GREAT AG...  \n",
       "4   Politician @SenatorCardin didn't like that I s...  \n",
       "5   For the nonbeliever, here is a photo of @Neily...  \n",
       "6   .@Neilyoung’s song, “Rockin’ In The Free World...  \n",
       "7   Uncomfortable looking NBC reporter Willie Geis...  \n",
       "8   Just out, the new nationwide @FoxNews poll has...  \n",
       "9   The ratings for The View are really low. Nicol...  \n",
       "10  The ratings for The View are really low. Nicol...  "
      ]
     },
     "execution_count": 9,
     "metadata": {},
     "output_type": "execute_result"
    }
   ],
   "source": [
    "insult_df.head(10)"
   ]
  },
  {
   "cell_type": "code",
   "execution_count": 11,
   "metadata": {},
   "outputs": [
    {
     "data": {
      "text/html": [
       "<div>\n",
       "<style scoped>\n",
       "    .dataframe tbody tr th:only-of-type {\n",
       "        vertical-align: middle;\n",
       "    }\n",
       "\n",
       "    .dataframe tbody tr th {\n",
       "        vertical-align: top;\n",
       "    }\n",
       "\n",
       "    .dataframe thead th {\n",
       "        text-align: right;\n",
       "    }\n",
       "</style>\n",
       "<table border=\"1\" class=\"dataframe\">\n",
       "  <thead>\n",
       "    <tr style=\"text-align: right;\">\n",
       "      <th></th>\n",
       "      <th>date</th>\n",
       "      <th>target</th>\n",
       "      <th>insult</th>\n",
       "      <th>tweet</th>\n",
       "    </tr>\n",
       "  </thead>\n",
       "  <tbody>\n",
       "    <tr>\n",
       "      <th>10358</th>\n",
       "      <td>2021-01-06</td>\n",
       "      <td>2020-election</td>\n",
       "      <td>Our Election Process is worse than that of thi...</td>\n",
       "      <td>They just happened to find 50,000 ballots late...</td>\n",
       "    </tr>\n",
       "    <tr>\n",
       "      <th>10359</th>\n",
       "      <td>2021-01-06</td>\n",
       "      <td>2020-election</td>\n",
       "      <td>a FRAUD</td>\n",
       "      <td>The States want to redo their votes. They foun...</td>\n",
       "    </tr>\n",
       "    <tr>\n",
       "      <th>10360</th>\n",
       "      <td>2021-01-06</td>\n",
       "      <td>chuck-todd</td>\n",
       "      <td>Sleepy Eyes,  Sad to watch!</td>\n",
       "      <td>Sleepy Eyes Chuck Todd is so happy with the fa...</td>\n",
       "    </tr>\n",
       "  </tbody>\n",
       "</table>\n",
       "</div>"
      ],
      "text/plain": [
       "             date         target  \\\n",
       "10358  2021-01-06  2020-election   \n",
       "10359  2021-01-06  2020-election   \n",
       "10360  2021-01-06     chuck-todd   \n",
       "\n",
       "                                                  insult  \\\n",
       "10358  Our Election Process is worse than that of thi...   \n",
       "10359                                            a FRAUD   \n",
       "10360                        Sleepy Eyes,  Sad to watch!   \n",
       "\n",
       "                                                   tweet  \n",
       "10358  They just happened to find 50,000 ballots late...  \n",
       "10359  The States want to redo their votes. They foun...  \n",
       "10360  Sleepy Eyes Chuck Todd is so happy with the fa...  "
      ]
     },
     "execution_count": 11,
     "metadata": {},
     "output_type": "execute_result"
    }
   ],
   "source": [
    "insult_df.tail(3)"
   ]
  },
  {
   "cell_type": "code",
   "execution_count": 12,
   "metadata": {},
   "outputs": [
    {
     "data": {
      "text/plain": [
       "1        thomas-frieden\n",
       "2        thomas-frieden\n",
       "3           politicians\n",
       "4            ben-cardin\n",
       "5            neil-young\n",
       "              ...      \n",
       "10356     2020-election\n",
       "10357     2020-election\n",
       "10358     2020-election\n",
       "10359     2020-election\n",
       "10360        chuck-todd\n",
       "Name: target, Length: 10360, dtype: object"
      ]
     },
     "execution_count": 12,
     "metadata": {},
     "output_type": "execute_result"
    }
   ],
   "source": [
    "insult_df['target']"
   ]
  },
  {
   "cell_type": "code",
   "execution_count": 15,
   "metadata": {},
   "outputs": [],
   "source": [
    "insult_df_from_url = pd.read_csv('https://raw.githubusercontent.com/jfkoehler/emeritus-dartmouth/master/data/insults.csv',\n",
    "                                index_col = 0)"
   ]
  },
  {
   "cell_type": "code",
   "execution_count": 16,
   "metadata": {},
   "outputs": [
    {
     "data": {
      "text/html": [
       "<div>\n",
       "<style scoped>\n",
       "    .dataframe tbody tr th:only-of-type {\n",
       "        vertical-align: middle;\n",
       "    }\n",
       "\n",
       "    .dataframe tbody tr th {\n",
       "        vertical-align: top;\n",
       "    }\n",
       "\n",
       "    .dataframe thead th {\n",
       "        text-align: right;\n",
       "    }\n",
       "</style>\n",
       "<table border=\"1\" class=\"dataframe\">\n",
       "  <thead>\n",
       "    <tr style=\"text-align: right;\">\n",
       "      <th></th>\n",
       "      <th>date</th>\n",
       "      <th>target</th>\n",
       "      <th>insult</th>\n",
       "      <th>tweet</th>\n",
       "    </tr>\n",
       "  </thead>\n",
       "  <tbody>\n",
       "    <tr>\n",
       "      <th>1</th>\n",
       "      <td>2014-10-09</td>\n",
       "      <td>thomas-frieden</td>\n",
       "      <td>fool</td>\n",
       "      <td>Can you believe this fool, Dr. Thomas Frieden ...</td>\n",
       "    </tr>\n",
       "    <tr>\n",
       "      <th>2</th>\n",
       "      <td>2014-10-09</td>\n",
       "      <td>thomas-frieden</td>\n",
       "      <td>DOPE</td>\n",
       "      <td>Can you believe this fool, Dr. Thomas Frieden ...</td>\n",
       "    </tr>\n",
       "    <tr>\n",
       "      <th>3</th>\n",
       "      <td>2015-06-16</td>\n",
       "      <td>politicians</td>\n",
       "      <td>all talk and no action</td>\n",
       "      <td>Big time in U.S. today - MAKE AMERICA GREAT AG...</td>\n",
       "    </tr>\n",
       "    <tr>\n",
       "      <th>4</th>\n",
       "      <td>2015-06-24</td>\n",
       "      <td>ben-cardin</td>\n",
       "      <td>It's politicians like Cardin that have destroy...</td>\n",
       "      <td>Politician @SenatorCardin didn't like that I s...</td>\n",
       "    </tr>\n",
       "    <tr>\n",
       "      <th>5</th>\n",
       "      <td>2015-06-24</td>\n",
       "      <td>neil-young</td>\n",
       "      <td>total hypocrite</td>\n",
       "      <td>For the nonbeliever, here is a photo of @Neily...</td>\n",
       "    </tr>\n",
       "  </tbody>\n",
       "</table>\n",
       "</div>"
      ],
      "text/plain": [
       "         date          target  \\\n",
       "1  2014-10-09  thomas-frieden   \n",
       "2  2014-10-09  thomas-frieden   \n",
       "3  2015-06-16     politicians   \n",
       "4  2015-06-24      ben-cardin   \n",
       "5  2015-06-24      neil-young   \n",
       "\n",
       "                                              insult  \\\n",
       "1                                               fool   \n",
       "2                                               DOPE   \n",
       "3                             all talk and no action   \n",
       "4  It's politicians like Cardin that have destroy...   \n",
       "5                                    total hypocrite   \n",
       "\n",
       "                                               tweet  \n",
       "1  Can you believe this fool, Dr. Thomas Frieden ...  \n",
       "2  Can you believe this fool, Dr. Thomas Frieden ...  \n",
       "3  Big time in U.S. today - MAKE AMERICA GREAT AG...  \n",
       "4  Politician @SenatorCardin didn't like that I s...  \n",
       "5  For the nonbeliever, here is a photo of @Neily...  "
      ]
     },
     "execution_count": 16,
     "metadata": {},
     "output_type": "execute_result"
    }
   ],
   "source": [
    "insult_df_from_url.head()"
   ]
  },
  {
   "cell_type": "code",
   "execution_count": 17,
   "metadata": {},
   "outputs": [
    {
     "data": {
      "text/plain": [
       "1        thomas-frieden\n",
       "2        thomas-frieden\n",
       "3           politicians\n",
       "4            ben-cardin\n",
       "5            neil-young\n",
       "              ...      \n",
       "10356     2020-election\n",
       "10357     2020-election\n",
       "10358     2020-election\n",
       "10359     2020-election\n",
       "10360        chuck-todd\n",
       "Name: target, Length: 10360, dtype: object"
      ]
     },
     "execution_count": 17,
     "metadata": {},
     "output_type": "execute_result"
    }
   ],
   "source": [
    "insult_df['target']"
   ]
  },
  {
   "cell_type": "code",
   "execution_count": 19,
   "metadata": {},
   "outputs": [
    {
     "data": {
      "text/html": [
       "<div>\n",
       "<style scoped>\n",
       "    .dataframe tbody tr th:only-of-type {\n",
       "        vertical-align: middle;\n",
       "    }\n",
       "\n",
       "    .dataframe tbody tr th {\n",
       "        vertical-align: top;\n",
       "    }\n",
       "\n",
       "    .dataframe thead th {\n",
       "        text-align: right;\n",
       "    }\n",
       "</style>\n",
       "<table border=\"1\" class=\"dataframe\">\n",
       "  <thead>\n",
       "    <tr style=\"text-align: right;\">\n",
       "      <th></th>\n",
       "      <th>target</th>\n",
       "      <th>insult</th>\n",
       "    </tr>\n",
       "  </thead>\n",
       "  <tbody>\n",
       "    <tr>\n",
       "      <th>1</th>\n",
       "      <td>thomas-frieden</td>\n",
       "      <td>fool</td>\n",
       "    </tr>\n",
       "    <tr>\n",
       "      <th>2</th>\n",
       "      <td>thomas-frieden</td>\n",
       "      <td>DOPE</td>\n",
       "    </tr>\n",
       "    <tr>\n",
       "      <th>3</th>\n",
       "      <td>politicians</td>\n",
       "      <td>all talk and no action</td>\n",
       "    </tr>\n",
       "    <tr>\n",
       "      <th>4</th>\n",
       "      <td>ben-cardin</td>\n",
       "      <td>It's politicians like Cardin that have destroy...</td>\n",
       "    </tr>\n",
       "    <tr>\n",
       "      <th>5</th>\n",
       "      <td>neil-young</td>\n",
       "      <td>total hypocrite</td>\n",
       "    </tr>\n",
       "    <tr>\n",
       "      <th>...</th>\n",
       "      <td>...</td>\n",
       "      <td>...</td>\n",
       "    </tr>\n",
       "    <tr>\n",
       "      <th>10356</th>\n",
       "      <td>2020-election</td>\n",
       "      <td>Many States want to decertify the mistake they...</td>\n",
       "    </tr>\n",
       "    <tr>\n",
       "      <th>10357</th>\n",
       "      <td>2020-election</td>\n",
       "      <td>based on irregularities and fraud, plus corrup...</td>\n",
       "    </tr>\n",
       "    <tr>\n",
       "      <th>10358</th>\n",
       "      <td>2020-election</td>\n",
       "      <td>Our Election Process is worse than that of thi...</td>\n",
       "    </tr>\n",
       "    <tr>\n",
       "      <th>10359</th>\n",
       "      <td>2020-election</td>\n",
       "      <td>a FRAUD</td>\n",
       "    </tr>\n",
       "    <tr>\n",
       "      <th>10360</th>\n",
       "      <td>chuck-todd</td>\n",
       "      <td>Sleepy Eyes,  Sad to watch!</td>\n",
       "    </tr>\n",
       "  </tbody>\n",
       "</table>\n",
       "<p>10360 rows × 2 columns</p>\n",
       "</div>"
      ],
      "text/plain": [
       "               target                                             insult\n",
       "1      thomas-frieden                                               fool\n",
       "2      thomas-frieden                                               DOPE\n",
       "3         politicians                             all talk and no action\n",
       "4          ben-cardin  It's politicians like Cardin that have destroy...\n",
       "5          neil-young                                    total hypocrite\n",
       "...               ...                                                ...\n",
       "10356   2020-election  Many States want to decertify the mistake they...\n",
       "10357   2020-election  based on irregularities and fraud, plus corrup...\n",
       "10358   2020-election  Our Election Process is worse than that of thi...\n",
       "10359   2020-election                                            a FRAUD\n",
       "10360      chuck-todd                        Sleepy Eyes,  Sad to watch!\n",
       "\n",
       "[10360 rows x 2 columns]"
      ]
     },
     "execution_count": 19,
     "metadata": {},
     "output_type": "execute_result"
    }
   ],
   "source": [
    "insult_df[['target', 'insult']]"
   ]
  },
  {
   "cell_type": "code",
   "execution_count": 22,
   "metadata": {},
   "outputs": [
    {
     "data": {
      "text/plain": [
       "the-media              1287\n",
       "democrats               647\n",
       "hillary-clinton         625\n",
       "trump-russia            441\n",
       "joe-biden               402\n",
       "the-new-york-times      392\n",
       "cnn                     295\n",
       "impeachment-inquiry     247\n",
       "2020-election           143\n",
       "adam-schiff             143\n",
       "Name: target, dtype: int64"
      ]
     },
     "execution_count": 22,
     "metadata": {},
     "output_type": "execute_result"
    }
   ],
   "source": [
    "insult_df['target'].value_counts().head(10)"
   ]
  },
  {
   "cell_type": "code",
   "execution_count": null,
   "metadata": {},
   "outputs": [],
   "source": []
  }
 ],
 "metadata": {
  "kernelspec": {
   "display_name": "Python 3",
   "language": "python",
   "name": "python3"
  },
  "language_info": {
   "codemirror_mode": {
    "name": "ipython",
    "version": 3
   },
   "file_extension": ".py",
   "mimetype": "text/x-python",
   "name": "python",
   "nbconvert_exporter": "python",
   "pygments_lexer": "ipython3",
   "version": "3.8.2"
  }
 },
 "nbformat": 4,
 "nbformat_minor": 4
}
